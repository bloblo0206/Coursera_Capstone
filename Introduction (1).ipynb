{
 "cells": [
  {
   "cell_type": "markdown",
   "metadata": {},
   "source": [
    "Introduction"
   ]
  },
  {
   "cell_type": "markdown",
   "metadata": {},
   "source": [
    "Road traffic incidents causes fatalities every year. In 2019 alone, 36,120 lives were taken away due to all sorts of causes towards road incidents — driver misconduct, adverse weather, etc. Spendings on property recovery, medical costs, legal bills, and loss of earnings sums up towards billions of dollars on an annual basis. While it may seem that these incidents are beyond our expectations, identifying factors that contribute towards these incidents and their severity may be insightful for local authorities and drivers who wish to maintain a safe driving environment. \n",
    "\n",
    "As open data are available for the public to examine details on previous incidents, specific causes can be found for incidents of large and small severity, where this project would attempt to model the road condition in order to predict whether it is safe and smooth for drivers to go onto a road trip in Seattle. \n"
   ]
  },
  {
   "cell_type": "code",
   "execution_count": null,
   "metadata": {},
   "outputs": [],
   "source": []
  }
 ],
 "metadata": {
  "kernelspec": {
   "display_name": "Python",
   "language": "python",
   "name": "conda-env-python-py"
  },
  "language_info": {
   "codemirror_mode": {
    "name": "ipython",
    "version": 3
   },
   "file_extension": ".py",
   "mimetype": "text/x-python",
   "name": "python",
   "nbconvert_exporter": "python",
   "pygments_lexer": "ipython3",
   "version": "3.6.11"
  }
 },
 "nbformat": 4,
 "nbformat_minor": 4
}
